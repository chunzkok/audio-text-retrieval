{
 "cells": [
  {
   "cell_type": "code",
   "execution_count": 1,
   "id": "9f933e20-65f9-4dca-90ac-35a6dbeb75a0",
   "metadata": {
    "tags": []
   },
   "outputs": [],
   "source": [
    "# point huggingface cache to /tmp\n",
    "!export HF_HOME=\"/tmp/.cache/huggingface\"\n",
    "!export HF_DATASETS_CACHE=\"/tmp/.cache/huggingface/datasets\"\n",
    "!export TRANSFORMERS_CACHE=\"/tmp/.cache/huggingface/models\"\n",
    "\n",
    "import warnings\n",
    "import os\n",
    "warnings.simplefilter(action='ignore', category=FutureWarning)\n",
    "os.environ[\"HF_HOME\"] = \"/tmp/.cache/huggingface\"\n",
    "os.environ[\"HF_DATASETS_CACHE\"]=\"/tmp/.cache/huggingface/datasets\"\n",
    "#os.environ[\"TRANSFORMERS_CACHE\"]=\"/tmp/.cache/huggingface/models\"\n",
    "\n",
    "RELOAD_TRAIN = False\n",
    "RELOAD_VAL = False"
   ]
  },
  {
   "cell_type": "code",
   "execution_count": 2,
   "id": "70777edf-bcd5-4383-ad37-0b2a3f44c3df",
   "metadata": {
    "tags": []
   },
   "outputs": [],
   "source": [
    "import datasets\n",
    "import torch\n",
    "import numpy as np\n",
    "import utils.EvalMetrics as EvalMetrics\n",
    "\n",
    "from data_parsers.Parser import AudioCapsParser, ClothoParser, SplitType\n",
    "from utils.DataTools import *\n",
    "from utils.LossFunctions import contrastiveCE, create_contrastive_loss\n",
    "from models.AudioTextRetriever import (AudioTextRetrieverCrossAtt, AudioTextRetrieverCrossAtt2, \n",
    "                                       AudioTextRetrieverCrossAtt3, TemporalAudioTextRetrieverCrossAtt,\n",
    "                                       AudioTextRetrieverWithMLP, AudioTextRetrieverSelfAtt)\n",
    "from models.AudioEncoders import ASTEncoder, TemporalASTEncoder\n",
    "from models.TextEncoders import RoBERTaEncoder, TemporalRoBERTaEncoder\n",
    "from pathlib import Path\n",
    "from transformers import EvalPrediction, Trainer, TrainingArguments\n",
    "from typing import Dict\n",
    "\n",
    "device = \"cuda\" if torch.cuda.is_available() else \"cpu\"\n",
    "#datasets.config.IN_MEMORY_MAX_SIZE = 128 * 2**30\n",
    "HF_DATASETS_DIR = Path(\"/tmp/kokcz/datasets/huggingface\")"
   ]
  },
  {
   "cell_type": "code",
   "execution_count": 3,
   "id": "96c42f3f-78df-447d-910a-6634d58d6465",
   "metadata": {
    "tags": []
   },
   "outputs": [],
   "source": [
    "clotho = ClothoParser(\"../datasets/clotho\")\n",
    "audiocaps = AudioCapsParser(\"/tmp/kokcz/datasets/audiocaps\")\n",
    "\n",
    "TRAIN_SETS = [\n",
    "    {\"parser\": clotho, \"pos_samples\":5, \"neg_samples\": 5},\n",
    "    {\"parser\": audiocaps, \"pos_samples\":1, \"neg_samples\": 2},\n",
    "]\n",
    "\n",
    "VAL_SETS = [\n",
    "    {\"name\": \"Clotho\", \"parser\": clotho, \"pos_samples\":1, \"neg_samples\": 0},\n",
    "    {\"name\": \"AudioCaps\", \"parser\": audiocaps, \"pos_samples\":1, \"neg_samples\": 0},\n",
    "]"
   ]
  },
  {
   "cell_type": "code",
   "execution_count": 4,
   "id": "b9411b99-83d9-4d8e-b83f-43b7056a5ea4",
   "metadata": {
    "tags": []
   },
   "outputs": [
    {
     "data": {
      "application/vnd.jupyter.widget-view+json": {
       "model_id": "5fbafd15a1cb4aff811fa0638777cd4f",
       "version_major": 2,
       "version_minor": 0
      },
      "text/plain": [
       "Loading dataset from disk:   0%|          | 0/32 [00:00<?, ?it/s]"
      ]
     },
     "metadata": {},
     "output_type": "display_data"
    }
   ],
   "source": [
    "if RELOAD_TRAIN or not (HF_DATASETS_DIR / \"train\").exists():\n",
    "    def get_train(parser, pos_samples, neg_samples):\n",
    "        train_set = parser.to_hf(SplitType.DEV)\n",
    "        train_set = train_set.filter(lambda row: is_valid_audio(row[\"path\"], 0.1), num_proc=32)\n",
    "        train_set = train_set.map(create_sample_generator(num_pos=pos_samples, num_neg=neg_samples), batched=True)\n",
    "        return train_set\n",
    "    \n",
    "    train_set = datasets.concatenate_datasets([get_train(**args) for args in TRAIN_SETS])\n",
    "    train_set = train_set.shuffle()\n",
    "    train_set = train_set.flatten_indices() # avoid 10x slowdown\n",
    "    train_set.save_to_disk(str(HF_DATASETS_DIR / \"train\"), num_proc=32)\n",
    "else:\n",
    "    train_set = datasets.load_from_disk(str(HF_DATASETS_DIR/\"train\"))"
   ]
  },
  {
   "cell_type": "code",
   "execution_count": 5,
   "id": "b56fc464-3c2e-4973-a329-b0e2263c3b90",
   "metadata": {
    "tags": []
   },
   "outputs": [
    {
     "data": {
      "application/vnd.jupyter.widget-view+json": {
       "model_id": "c26a6ed14e1a43a38fb1e6be963f6988",
       "version_major": 2,
       "version_minor": 0
      },
      "text/plain": [
       "Loading dataset from disk:   0%|          | 0/32 [00:00<?, ?it/s]"
      ]
     },
     "metadata": {},
     "output_type": "display_data"
    },
    {
     "data": {
      "application/vnd.jupyter.widget-view+json": {
       "model_id": "939edb837c3b43a0986ccbe037449d0d",
       "version_major": 2,
       "version_minor": 0
      },
      "text/plain": [
       "Loading dataset from disk:   0%|          | 0/32 [00:00<?, ?it/s]"
      ]
     },
     "metadata": {},
     "output_type": "display_data"
    }
   ],
   "source": [
    "if RELOAD_VAL or not (HF_DATASETS_DIR / \"val\").exists():\n",
    "    def get_val(parser, pos_samples, neg_samples):\n",
    "        val_set = parser.to_hf(SplitType.VAL)\n",
    "        val_set = val_set.filter(lambda row: is_valid_audio(row[\"path\"], 0.1), num_proc=32)\n",
    "        val_set = val_set.map(create_sample_generator(num_pos=pos_samples, num_neg=neg_samples), batched=True)\n",
    "        return val_set\n",
    "\n",
    "    val_set = {}\n",
    "    for metadata in VAL_SETS:\n",
    "        ds_name = metadata.pop(\"name\")\n",
    "        ds = get_val(**metadata)\n",
    "        val_set[ds_name] = ds\n",
    "        ds.save_to_disk(str(HF_DATASETS_DIR/\"val\"/ds_name), num_proc=32)\n",
    "else:\n",
    "    names = [metadata[\"name\"] for metadata in VAL_SETS]\n",
    "    val_set = {name : datasets.load_from_disk(str(HF_DATASETS_DIR/\"val\"/name)) for name in names}"
   ]
  },
  {
   "cell_type": "code",
   "execution_count": 6,
   "id": "4fa8fecb-b38f-4b11-bc0d-98c93a65a1d1",
   "metadata": {
    "tags": []
   },
   "outputs": [
    {
     "name": "stdout",
     "output_type": "stream",
     "text": [
      "Created contrastive loss function for cross-attention model with temperature 0.7.\n"
     ]
    },
    {
     "name": "stderr",
     "output_type": "stream",
     "text": [
      "Some weights of RobertaModel were not initialized from the model checkpoint at FacebookAI/roberta-base and are newly initialized: ['roberta.pooler.dense.bias', 'roberta.pooler.dense.weight']\n",
      "You should probably TRAIN this model on a down-stream task to be able to use it for predictions and inference.\n"
     ]
    }
   ],
   "source": [
    "retriever = TemporalAudioTextRetrieverCrossAtt(\n",
    "    loss_fn=create_contrastive_loss(0.7, True),\n",
    "    text_enc=TemporalRoBERTaEncoder(2048, 512, seq_len=40),\n",
    "    audio_enc=TemporalASTEncoder(2048, 512, pooling_kernel_size=8, pooling_stride=6, pooling_padding=0),\n",
    "    num_heads=8,\n",
    "    att_aggregation=\"mean\"\n",
    ").to(device)\n",
    "collator = AudioTextDataCollator(retriever.AudioEncoder.cpu().preprocess, retriever.TextEncoder.cpu().preprocess)\n",
    "#collator = ProcessedAudioTextDataCollator(retriever.AudioEncoder.cpu().preprocess, retriever.TextEncoder.cpu().preprocess)"
   ]
  },
  {
   "cell_type": "code",
   "execution_count": 7,
   "id": "922e1800-1503-40d2-8204-2033cc37e793",
   "metadata": {
    "tags": []
   },
   "outputs": [],
   "source": [
    "def capture_arg(is_cross_att):\n",
    "    return lambda compute_metrics: lambda output: compute_metrics(output, is_cross_att)\n",
    "\n",
    "@capture_arg(is_cross_att=True)\n",
    "def compute_metrics(output, is_cross_att):\n",
    "    logits, audio_embed, text_embed = output.predictions\n",
    "    labels = output.label_ids\n",
    "    #a2t_metrics = EvalMetrics.AudioToTextRetrieval(embeddings, labels, is_cross_att)\n",
    "    t2a_metrics = EvalMetrics.TextToAudioRetrieval(labels, audio_embed, text_embed, retriever.do_cross_attention if is_cross_att else None)\n",
    "    #audio_r_1, audio_r_5 = a2t_metrics.recall_at_k([1, 5])\n",
    "    text_r_1, text_r_5 = t2a_metrics.recall_at_k([1,5])\n",
    "    return {\n",
    "        #\"R@1 (A->T)\": audio_r_1,\n",
    "        #\"R@5 (A->T)\": audio_r_5,\n",
    "        #\"mAP@10 (A->T)\": a2t_metrics.mAP_at_k(10),\n",
    "        #\"MeanR (A->T)\": a2t_metrics.mean_rank(),\n",
    "        \"R@1 (T->A)\": text_r_1,\n",
    "        \"R@5 (T->A)\": text_r_5,\n",
    "        \"mAP@10 (T->A)\": t2a_metrics.mAP_at_k(10),\n",
    "        \"MeanR (T->A)\": t2a_metrics.mean_rank()\n",
    "    }"
   ]
  },
  {
   "cell_type": "code",
   "execution_count": 8,
   "id": "ecad623c-38be-4639-a6b3-cf4e031ffeae",
   "metadata": {
    "tags": []
   },
   "outputs": [],
   "source": [
    "train_args = TrainingArguments(\n",
    "    output_dir=\"/tmp/kokcz/train_out\",\n",
    "    overwrite_output_dir=True,\n",
    "    group_by_length=False,\n",
    "    per_device_train_batch_size=64,\n",
    "    per_device_eval_batch_size=64,\n",
    "    eval_strategy=\"steps\",\n",
    "    num_train_epochs=7,\n",
    "    save_steps=2048,\n",
    "    eval_steps=1024,\n",
    "    logging_steps=32,\n",
    "    learning_rate=5e-6,\n",
    "    metric_for_best_model=\"AudioCaps_MeanR (T->A)\",\n",
    "    greater_is_better=False,\n",
    "    dataloader_num_workers=48,\n",
    "    load_best_model_at_end=True,\n",
    "    remove_unused_columns=False,\n",
    "    run_name=\"crossatt4-mean-retrieval\"\n",
    ")"
   ]
  },
  {
   "cell_type": "code",
   "execution_count": 9,
   "id": "b7126dfd-d808-45f7-90f4-0732cb0c1cba",
   "metadata": {
    "tags": []
   },
   "outputs": [],
   "source": [
    "trainer = Trainer(\n",
    "    model=retriever,\n",
    "    args=train_args,\n",
    "    data_collator=collator,\n",
    "    compute_metrics=compute_metrics,\n",
    "    train_dataset=train_set,\n",
    "    eval_dataset=val_set\n",
    ")"
   ]
  },
  {
   "cell_type": "code",
   "execution_count": null,
   "id": "bea5e73d-73e9-493c-a782-0896197b8c72",
   "metadata": {
    "tags": []
   },
   "outputs": [
    {
     "name": "stderr",
     "output_type": "stream",
     "text": [
      "Failed to detect the name of this notebook, you can set it manually with the WANDB_NOTEBOOK_NAME environment variable to enable code saving.\n",
      "\u001b[34m\u001b[1mwandb\u001b[0m: Currently logged in as: \u001b[33mkokcz\u001b[0m. Use \u001b[1m`wandb login --relogin`\u001b[0m to force relogin\n"
     ]
    },
    {
     "data": {
      "application/vnd.jupyter.widget-view+json": {
       "model_id": "4afc6cb805324a2484f0654be1720b95",
       "version_major": 2,
       "version_minor": 0
      },
      "text/plain": [
       "VBox(children=(Label(value='Waiting for wandb.init()...\\r'), FloatProgress(value=0.011113109333544141, max=1.0…"
      ]
     },
     "metadata": {},
     "output_type": "display_data"
    },
    {
     "data": {
      "text/html": [
       "wandb version 0.17.5 is available!  To upgrade, please run:\n",
       " $ pip install wandb --upgrade"
      ],
      "text/plain": [
       "<IPython.core.display.HTML object>"
      ]
     },
     "metadata": {},
     "output_type": "display_data"
    },
    {
     "data": {
      "text/html": [
       "Tracking run with wandb version 0.17.1"
      ],
      "text/plain": [
       "<IPython.core.display.HTML object>"
      ]
     },
     "metadata": {},
     "output_type": "display_data"
    },
    {
     "data": {
      "text/html": [
       "Run data is saved locally in <code>/home/k/kokcz/dso/audio-text-retrieval/wandb/run-20240721_212616-k56f38i8</code>"
      ],
      "text/plain": [
       "<IPython.core.display.HTML object>"
      ]
     },
     "metadata": {},
     "output_type": "display_data"
    },
    {
     "data": {
      "text/html": [
       "Syncing run <strong><a href='https://wandb.ai/kokcz/huggingface/runs/k56f38i8' target=\"_blank\">crossatt4-mean-retrieval</a></strong> to <a href='https://wandb.ai/kokcz/huggingface' target=\"_blank\">Weights & Biases</a> (<a href='https://wandb.me/run' target=\"_blank\">docs</a>)<br/>"
      ],
      "text/plain": [
       "<IPython.core.display.HTML object>"
      ]
     },
     "metadata": {},
     "output_type": "display_data"
    },
    {
     "data": {
      "text/html": [
       " View project at <a href='https://wandb.ai/kokcz/huggingface' target=\"_blank\">https://wandb.ai/kokcz/huggingface</a>"
      ],
      "text/plain": [
       "<IPython.core.display.HTML object>"
      ]
     },
     "metadata": {},
     "output_type": "display_data"
    },
    {
     "data": {
      "text/html": [
       " View run at <a href='https://wandb.ai/kokcz/huggingface/runs/k56f38i8' target=\"_blank\">https://wandb.ai/kokcz/huggingface/runs/k56f38i8</a>"
      ],
      "text/plain": [
       "<IPython.core.display.HTML object>"
      ]
     },
     "metadata": {},
     "output_type": "display_data"
    },
    {
     "data": {
      "text/html": [
       "\n",
       "    <div>\n",
       "      \n",
       "      <progress value='10241' max='18627' style='width:300px; height:20px; vertical-align: middle;'></progress>\n",
       "      [10241/18627 6:26:34 < 5:16:37, 0.44 it/s, Epoch 3.85/7]\n",
       "    </div>\n",
       "    <table border=\"1\" class=\"dataframe\">\n",
       "  <thead>\n",
       " <tr style=\"text-align: left;\">\n",
       "      <th>Step</th>\n",
       "      <th>Training Loss</th>\n",
       "      <th>Validation Loss</th>\n",
       "      <th>Clotho Loss</th>\n",
       "      <th>Clotho R@1 (t->a)</th>\n",
       "      <th>Clotho R@5 (t->a)</th>\n",
       "      <th>Clotho Map@10 (t->a)</th>\n",
       "      <th>Clotho Meanr (t->a)</th>\n",
       "      <th>Audiocaps Loss</th>\n",
       "      <th>Audiocaps R@1 (t->a)</th>\n",
       "      <th>Audiocaps R@5 (t->a)</th>\n",
       "      <th>Audiocaps Map@10 (t->a)</th>\n",
       "      <th>Audiocaps Meanr (t->a)</th>\n",
       "    </tr>\n",
       "  </thead>\n",
       "  <tbody>\n",
       "    <tr>\n",
       "      <td>1024</td>\n",
       "      <td>0.556800</td>\n",
       "      <td>No log</td>\n",
       "      <td>2.452900</td>\n",
       "      <td>0.050718</td>\n",
       "      <td>0.161722</td>\n",
       "      <td>0.099144</td>\n",
       "      <td>81.305263</td>\n",
       "      <td>1.505775</td>\n",
       "      <td>0.045564</td>\n",
       "      <td>0.197122</td>\n",
       "      <td>0.113964</td>\n",
       "      <td>51.897362</td>\n",
       "    </tr>\n",
       "    <tr>\n",
       "      <td>2048</td>\n",
       "      <td>0.466700</td>\n",
       "      <td>No log</td>\n",
       "      <td>2.061093</td>\n",
       "      <td>0.068900</td>\n",
       "      <td>0.241148</td>\n",
       "      <td>0.143935</td>\n",
       "      <td>59.023923</td>\n",
       "      <td>1.193610</td>\n",
       "      <td>0.069544</td>\n",
       "      <td>0.265707</td>\n",
       "      <td>0.156055</td>\n",
       "      <td>39.722782</td>\n",
       "    </tr>\n",
       "    <tr>\n",
       "      <td>3072</td>\n",
       "      <td>0.364700</td>\n",
       "      <td>No log</td>\n",
       "      <td>1.958749</td>\n",
       "      <td>0.090909</td>\n",
       "      <td>0.270813</td>\n",
       "      <td>0.173435</td>\n",
       "      <td>47.801914</td>\n",
       "      <td>1.118516</td>\n",
       "      <td>0.075300</td>\n",
       "      <td>0.312710</td>\n",
       "      <td>0.173129</td>\n",
       "      <td>35.968825</td>\n",
       "    </tr>\n",
       "    <tr>\n",
       "      <td>4096</td>\n",
       "      <td>0.314800</td>\n",
       "      <td>No log</td>\n",
       "      <td>1.949999</td>\n",
       "      <td>0.083254</td>\n",
       "      <td>0.278469</td>\n",
       "      <td>0.165031</td>\n",
       "      <td>50.595215</td>\n",
       "      <td>1.019659</td>\n",
       "      <td>0.076259</td>\n",
       "      <td>0.313669</td>\n",
       "      <td>0.178495</td>\n",
       "      <td>30.121823</td>\n",
       "    </tr>\n",
       "    <tr>\n",
       "      <td>5120</td>\n",
       "      <td>0.285500</td>\n",
       "      <td>No log</td>\n",
       "      <td>1.830827</td>\n",
       "      <td>0.092823</td>\n",
       "      <td>0.310048</td>\n",
       "      <td>0.184138</td>\n",
       "      <td>43.972249</td>\n",
       "      <td>0.992769</td>\n",
       "      <td>0.085851</td>\n",
       "      <td>0.342446</td>\n",
       "      <td>0.195495</td>\n",
       "      <td>29.664748</td>\n",
       "    </tr>\n",
       "    <tr>\n",
       "      <td>6144</td>\n",
       "      <td>0.278800</td>\n",
       "      <td>No log</td>\n",
       "      <td>1.834458</td>\n",
       "      <td>0.106220</td>\n",
       "      <td>0.321531</td>\n",
       "      <td>0.197658</td>\n",
       "      <td>46.457416</td>\n",
       "      <td>0.968023</td>\n",
       "      <td>0.087290</td>\n",
       "      <td>0.349161</td>\n",
       "      <td>0.198546</td>\n",
       "      <td>28.871463</td>\n",
       "    </tr>\n",
       "    <tr>\n",
       "      <td>7168</td>\n",
       "      <td>0.240100</td>\n",
       "      <td>No log</td>\n",
       "      <td>1.823400</td>\n",
       "      <td>0.121531</td>\n",
       "      <td>0.325359</td>\n",
       "      <td>0.210267</td>\n",
       "      <td>43.690909</td>\n",
       "      <td>0.959870</td>\n",
       "      <td>0.100240</td>\n",
       "      <td>0.371223</td>\n",
       "      <td>0.212538</td>\n",
       "      <td>27.815348</td>\n",
       "    </tr>\n",
       "    <tr>\n",
       "      <td>8192</td>\n",
       "      <td>0.237100</td>\n",
       "      <td>No log</td>\n",
       "      <td>1.816666</td>\n",
       "      <td>0.114833</td>\n",
       "      <td>0.328230</td>\n",
       "      <td>0.205460</td>\n",
       "      <td>43.244976</td>\n",
       "      <td>0.930535</td>\n",
       "      <td>0.096403</td>\n",
       "      <td>0.384652</td>\n",
       "      <td>0.217321</td>\n",
       "      <td>25.882494</td>\n",
       "    </tr>\n",
       "    <tr>\n",
       "      <td>9216</td>\n",
       "      <td>0.235300</td>\n",
       "      <td>No log</td>\n",
       "      <td>1.816930</td>\n",
       "      <td>0.117703</td>\n",
       "      <td>0.333014</td>\n",
       "      <td>0.208768</td>\n",
       "      <td>43.833493</td>\n",
       "      <td>0.904991</td>\n",
       "      <td>0.093046</td>\n",
       "      <td>0.371223</td>\n",
       "      <td>0.210439</td>\n",
       "      <td>26.415348</td>\n",
       "    </tr>\n",
       "    <tr>\n",
       "      <td>10240</td>\n",
       "      <td>0.199100</td>\n",
       "      <td>No log</td>\n",
       "      <td>1.779964</td>\n",
       "      <td>0.112919</td>\n",
       "      <td>0.339713</td>\n",
       "      <td>0.211184</td>\n",
       "      <td>39.957895</td>\n",
       "      <td>No Log</td>\n",
       "      <td>No Log</td>\n",
       "      <td>No Log</td>\n",
       "      <td>No Log</td>\n",
       "      <td>No Log</td>\n",
       "    </tr>\n",
       "  </tbody>\n",
       "</table><p>\n",
       "    <div>\n",
       "      \n",
       "      <progress value='33' max='33' style='width:300px; height:20px; vertical-align: middle;'></progress>\n",
       "      [33/33 00:22]\n",
       "    </div>\n",
       "    "
      ],
      "text/plain": [
       "<IPython.core.display.HTML object>"
      ]
     },
     "metadata": {},
     "output_type": "display_data"
    }
   ],
   "source": [
    "trainer.train()"
   ]
  },
  {
   "cell_type": "code",
   "execution_count": 12,
   "id": "2e894219-4d83-44c3-83dc-ff91e3acca16",
   "metadata": {},
   "outputs": [],
   "source": [
    "trainer.save_model(\"../saved_models/mean_downsample_202\")"
   ]
  },
  {
   "cell_type": "code",
   "execution_count": null,
   "id": "a1556c4d-d7f3-43aa-9209-77ce5ce3237e",
   "metadata": {},
   "outputs": [],
   "source": [
    "def wandb_hp_space(trial):\n",
    "    return {\n",
    "        \"project\": \"audio-text-retrieval\",\n",
    "        \"method\": \"grid\",\n",
    "        \"metric\": {\"name\": \"mAP@10 (T->A)\", \"goal\": \"maximize\"},\n",
    "        \"parameters\": {\n",
    "            \"temperature\": {\"values\": np.linspace(0.1, 1.5, 15).tolist()}\n",
    "        },\n",
    "    }"
   ]
  },
  {
   "cell_type": "code",
   "execution_count": null,
   "id": "52c50849-94dc-4d05-b8fe-c0ea480fbb25",
   "metadata": {
    "tags": []
   },
   "outputs": [],
   "source": [
    "def model_init(trial):\n",
    "    print(\"trial: \", trial)\n",
    "    return AudioTextRetriever(contrastiveCE if trial is None else create_contrastive_loss(trial[\"temperature\"])).to(device)"
   ]
  },
  {
   "cell_type": "code",
   "execution_count": null,
   "id": "f158ea74-2ac5-461d-adec-88c503fdeb09",
   "metadata": {
    "tags": []
   },
   "outputs": [],
   "source": [
    "hp_train_args = TrainingArguments(\n",
    "    output_dir=\"/tmp/kokcz/train_out\",\n",
    "    overwrite_output_dir=True,\n",
    "    group_by_length=False,\n",
    "    per_device_train_batch_size=64,\n",
    "    per_device_eval_batch_size=64,\n",
    "    eval_strategy=\"steps\",\n",
    "    learning_rate=1e-4,\n",
    "    num_train_epochs=50,\n",
    "    fp16=False,\n",
    "    save_steps=128,\n",
    "    eval_steps=64,\n",
    "    logging_steps=32,\n",
    "    optim=\"adamw_torch\",\n",
    "    save_total_limit=2,\n",
    "    dataloader_num_workers=4,\n",
    "    load_best_model_at_end=True,\n",
    "    remove_unused_columns=False,\n",
    "    greater_is_better=False,\n",
    "    run_name=\"audio-text-retrieval_temp-sweep\"\n",
    ")"
   ]
  },
  {
   "cell_type": "code",
   "execution_count": null,
   "id": "5fbd3c59-8f7f-4154-93b6-1e14c06bb391",
   "metadata": {
    "tags": []
   },
   "outputs": [],
   "source": [
    "hp_trainer = Trainer(\n",
    "    model=None,\n",
    "    args=hp_train_args,\n",
    "    train_dataset=train_set,\n",
    "    eval_dataset=val_set,\n",
    "    model_init=model_init,\n",
    "    data_collator=collator,\n",
    "    compute_metrics=compute_metrics\n",
    ")"
   ]
  },
  {
   "cell_type": "code",
   "execution_count": null,
   "id": "e2ec38b1-9a8b-4d9a-8910-e89b60200e52",
   "metadata": {
    "tags": []
   },
   "outputs": [],
   "source": [
    "hp_trainer.hyperparameter_search(direction=\"minimize\", backend=\"wandb\", hp_space=wandb_hp_space)"
   ]
  },
  {
   "cell_type": "code",
   "execution_count": null,
   "id": "08de2538-5701-46c4-8ee2-1443b18ea172",
   "metadata": {},
   "outputs": [],
   "source": [
    "hp_trainer.save_model(\"../saved_models/hp_temp\")"
   ]
  },
  {
   "cell_type": "code",
   "execution_count": null,
   "id": "31c2ebed-ba97-4fd5-9e6d-bc01a090b195",
   "metadata": {},
   "outputs": [],
   "source": []
  }
 ],
 "metadata": {
  "kernelspec": {
   "display_name": "Python (audio-text-retrieval venv)",
   "language": "python",
   "name": "venv-audiotextretrieval"
  },
  "language_info": {
   "codemirror_mode": {
    "name": "ipython",
    "version": 3
   },
   "file_extension": ".py",
   "mimetype": "text/x-python",
   "name": "python",
   "nbconvert_exporter": "python",
   "pygments_lexer": "ipython3",
   "version": "3.10.12"
  }
 },
 "nbformat": 4,
 "nbformat_minor": 5
}
